{
 "cells": [
  {
   "cell_type": "markdown",
   "id": "3c336865",
   "metadata": {},
   "source": [
    "# 7. 이미지 자르기"
   ]
  },
  {
   "cell_type": "markdown",
   "id": "a2e60c8c",
   "metadata": {},
   "source": [
    "영역을 잘라서 새로운 윈도우(창)에 표시"
   ]
  },
  {
   "cell_type": "code",
   "execution_count": 2,
   "id": "aac8f832",
   "metadata": {},
   "outputs": [],
   "source": [
    "import cv2\n",
    "img = cv2.imread('img.jpg')\n",
    "# img.shape # (390, 640, 3)\n",
    "\n",
    "crop = img[100:200,200:400] # 세로 기준 100 : 200 // 가로 기준 300 : 400 까지 자름\n",
    "\n",
    "cv2.imshow('img', img) # 원본이미지\n",
    "cv2.imshow('crop', crop) # 잘린 이미지\n",
    "cv2.waitKey(0)\n",
    "cv2.destroyAllWindows()"
   ]
  },
  {
   "cell_type": "markdown",
   "id": "7ab8069b",
   "metadata": {},
   "source": [
    "영역을 잘라서 기존 윈도우에 표시"
   ]
  },
  {
   "cell_type": "code",
   "execution_count": 3,
   "id": "3d8fe396",
   "metadata": {},
   "outputs": [],
   "source": [
    "import cv2\n",
    "img = cv2.imread('img.jpg')\n",
    "\n",
    "crop = img[100:200,200:400] # 세로 기준 100 : 200 // 가로 기준 300 : 400 까지 자름\n",
    "\n",
    "img[100:200, 400:600] = crop # img[범위] 만큼 crop 을 집어 넣음\n",
    "\n",
    "cv2.imshow('img', img) # 원본이미지\n",
    "cv2.waitKey(0)\n",
    "cv2.destroyAllWindows()"
   ]
  }
 ],
 "metadata": {
  "kernelspec": {
   "display_name": "Python 3 (ipykernel)",
   "language": "python",
   "name": "python3"
  },
  "language_info": {
   "codemirror_mode": {
    "name": "ipython",
    "version": 3
   },
   "file_extension": ".py",
   "mimetype": "text/x-python",
   "name": "python",
   "nbconvert_exporter": "python",
   "pygments_lexer": "ipython3",
   "version": "3.9.7"
  }
 },
 "nbformat": 4,
 "nbformat_minor": 5
}
