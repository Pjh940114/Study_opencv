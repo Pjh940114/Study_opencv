{
 "cells": [
  {
   "cell_type": "markdown",
   "id": "01eb645a",
   "metadata": {},
   "source": [
    "# 10. 이미지 변형 (흑백)"
   ]
  },
  {
   "cell_type": "markdown",
   "id": "5b1f64c4",
   "metadata": {},
   "source": [
    "이미지 흑백으로 읽음"
   ]
  },
  {
   "cell_type": "code",
   "execution_count": 1,
   "id": "83c2fb23",
   "metadata": {},
   "outputs": [],
   "source": [
    "import cv2\n",
    "img = cv2.imread('img.jpg', cv2.IMREAD_GRAYSCALE)\n",
    "\n",
    "cv2.imshow('img', img) \n",
    "cv2.waitKey(0)\n",
    "cv2.destroyAllWindows()"
   ]
  },
  {
   "cell_type": "markdown",
   "id": "8f717a04",
   "metadata": {},
   "source": [
    "불러온 이미지를 흑백으로 변경"
   ]
  },
  {
   "cell_type": "code",
   "execution_count": 4,
   "id": "35b0a262",
   "metadata": {},
   "outputs": [],
   "source": [
    "import cv2\n",
    "img = cv2.imread('img.jpg')\n",
    "\n",
    "dst = cv2.cvtColor(img, cv2.COLOR_BGR2GRAY)\n",
    "\n",
    "cv2.imshow('img', img) # 원본 이미지\n",
    "cv2.imshow('dst', dst) # 변형된 이미지\n",
    "cv2.waitKey(0)\n",
    "cv2.destroyAllWindows()"
   ]
  }
 ],
 "metadata": {
  "kernelspec": {
   "display_name": "Python 3 (ipykernel)",
   "language": "python",
   "name": "python3"
  },
  "language_info": {
   "codemirror_mode": {
    "name": "ipython",
    "version": 3
   },
   "file_extension": ".py",
   "mimetype": "text/x-python",
   "name": "python",
   "nbconvert_exporter": "python",
   "pygments_lexer": "ipython3",
   "version": "3.9.7"
  }
 },
 "nbformat": 4,
 "nbformat_minor": 5
}
