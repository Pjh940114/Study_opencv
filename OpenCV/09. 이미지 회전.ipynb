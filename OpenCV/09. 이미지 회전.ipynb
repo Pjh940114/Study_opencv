{
 "cells": [
  {
   "cell_type": "markdown",
   "id": "08820033",
   "metadata": {},
   "source": [
    "# 9. 이미지 회전"
   ]
  },
  {
   "cell_type": "markdown",
   "id": "11fc3f2c",
   "metadata": {},
   "source": [
    "## 시계 방향 90도 회전"
   ]
  },
  {
   "cell_type": "code",
   "execution_count": 1,
   "id": "e725d869",
   "metadata": {},
   "outputs": [],
   "source": [
    "import cv2\n",
    "img = cv2.imread('img.jpg')\n",
    "\n",
    "rotate_90 = cv2.rotate(img, cv2.ROTATE_90_CLOCKWISE) # 시계 방향으로 90도 회전\n",
    "\n",
    "cv2.imshow('img', img) # 원본 이미지\n",
    "cv2.imshow('rotate_90', rotate_90) # 회전 이미지\n",
    "cv2.waitKey(0)\n",
    "cv2.destroyAllWindows()"
   ]
  },
  {
   "cell_type": "markdown",
   "id": "8d713748",
   "metadata": {},
   "source": [
    "## 180 도 회전"
   ]
  },
  {
   "cell_type": "code",
   "execution_count": 2,
   "id": "d796629f",
   "metadata": {},
   "outputs": [],
   "source": [
    "import cv2\n",
    "img = cv2.imread('img.jpg')\n",
    "\n",
    "rotate_180 = cv2.rotate(img, cv2.ROTATE_180) # 180도 회전\n",
    "\n",
    "cv2.imshow('img', img) # 원본 이미지\n",
    "cv2.imshow('rotate_180', rotate_180) # 회전 이미지\n",
    "cv2.waitKey(0)\n",
    "cv2.destroyAllWindows()"
   ]
  },
  {
   "cell_type": "markdown",
   "id": "004a7e19",
   "metadata": {},
   "source": [
    "## 시계 반대 방향으로 90도 회전 (시계 방향 270도 회전)"
   ]
  },
  {
   "cell_type": "code",
   "execution_count": 3,
   "id": "8779cf1c",
   "metadata": {},
   "outputs": [],
   "source": [
    "import cv2\n",
    "img = cv2.imread('img.jpg')\n",
    "\n",
    "rotate_270 = cv2.rotate(img, cv2.ROTATE_90_COUNTERCLOCKWISE) # 시계 반대 방향으로 90도 회전\n",
    "\n",
    "cv2.imshow('img', img) # 원본 이미지\n",
    "cv2.imshow('rotate_270', rotate_270) # 회전 이미지\n",
    "cv2.waitKey(0)\n",
    "cv2.destroyAllWindows()"
   ]
  }
 ],
 "metadata": {
  "kernelspec": {
   "display_name": "Python 3 (ipykernel)",
   "language": "python",
   "name": "python3"
  },
  "language_info": {
   "codemirror_mode": {
    "name": "ipython",
    "version": 3
   },
   "file_extension": ".py",
   "mimetype": "text/x-python",
   "name": "python",
   "nbconvert_exporter": "python",
   "pygments_lexer": "ipython3",
   "version": "3.9.7"
  }
 },
 "nbformat": 4,
 "nbformat_minor": 5
}
