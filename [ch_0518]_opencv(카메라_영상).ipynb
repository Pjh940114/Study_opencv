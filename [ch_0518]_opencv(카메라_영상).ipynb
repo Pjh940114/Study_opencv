{
  "nbformat": 4,
  "nbformat_minor": 0,
  "metadata": {
    "colab": {
      "name": "[ch_0518]_opencv(카메라 영상).ipynb",
      "provenance": [],
      "collapsed_sections": [],
      "authorship_tag": "ABX9TyOF7lIzEy6MlBaz5a/XUW9Z",
      "include_colab_link": true
    },
    "kernelspec": {
      "name": "python3",
      "display_name": "Python 3"
    },
    "language_info": {
      "name": "python"
    }
  },
  "cells": [
    {
      "cell_type": "markdown",
      "metadata": {
        "id": "view-in-github",
        "colab_type": "text"
      },
      "source": [
        "<a href=\"https://colab.research.google.com/github/Pjh940114/Study_opencv/blob/main/%5Bch_0518%5D_opencv(%EC%B9%B4%EB%A9%94%EB%9D%BC_%EC%98%81%EC%83%81).ipynb\" target=\"_parent\"><img src=\"https://colab.research.google.com/assets/colab-badge.svg\" alt=\"Open In Colab\"/></a>"
      ]
    },
    {
      "cell_type": "code",
      "execution_count": null,
      "metadata": {
        "id": "RVm9homDSux1"
      },
      "outputs": [],
      "source": [
        "import cv2\n",
        "def put_string(frame, text, pt, value, color=(120, 200, 90)):             # 문자열 출력 함수 - 그림자 효과\n",
        "    text += str(value)\n",
        "    shade = (pt[0] + 2, pt[1] + 2)\n",
        "    font = cv2.FONT_HERSHEY_SIMPLEX\n",
        "    cv2.putText(frame, text, shade, font, 0.7, (0, 0, 0), 2)  # 그림자 효과\n",
        "    cv2.putText(frame, text, pt, font, 0.7, (120, 200, 90), 2)  # 글자 적기\n",
        "capture = cv2.VideoCapture(0)  # 0번 카메라 연결\n",
        "if capture.isOpened() == False:\n",
        "    raise Exception(\"카메라 연결 안됨\")\n",
        "# 카메라 속성 획득 및 출력\n",
        "print(\"너비 %d\" % capture.get(cv2.CAP_PROP_FRAME_WIDTH))\n",
        "print(\"높이 %d\" % capture.get(cv2.CAP_PROP_FRAME_HEIGHT))\n",
        "print(\"노출 %d\" % capture.get(cv2.CAP_PROP_EXPOSURE))\n",
        "print(\"밝기 %d\" % capture.get(cv2.CAP_PROP_BRIGHTNESS))\n",
        "while True:  # 무한 반복\n",
        "    ret, frame = capture.read()  # 카메라 영상 받기\n",
        "    if not ret: break\n",
        "    if cv2.waitKey(30) >= 0: break\n",
        "    exposure = capture.get(cv2.CAP_PROP_EXPOSURE)\n",
        "    put_string(frame, \"EXPOS: \", (10, 40), exposure)\n",
        "    title = \"View Frame from Camera\"\n",
        "    cv2.imshow(title, frame)  # 윈도우에 영상 띄우기\n",
        "capture.release()"
      ]
    },
    {
      "cell_type": "code",
      "source": [
        "import cv2\n",
        "capture = cv2.VideoCapture(0)                       # 0번 카메라 연결\n",
        "if capture.isOpened() == False: raise Exception(\"카메라 연결 안됨\")\n",
        "fps = 29.97                                         # 초당 프레임 수\n",
        "delay = round(1000/ fps)                            # 프레임 간 지연 시간\n",
        "size  = (640, 360)                                  # 동영상 파일 해상도\n",
        "fourcc = cv2.VideoWriter_fourcc(*'DX50')            # 압축 코덱 설정\n",
        "# 카메라 속성 콘솔창에 출력\n",
        "print(\"프레임 해상도:\", size )\n",
        "print(\"압축코덱 숫자:\", fourcc)\n",
        "print(\"delay: %2d ms\" % delay)\n",
        "print(\"fps: %.2f\" % fps)\n",
        "capture.set(cv2.CAP_PROP_ZOOM, 1)                   # 카메라 속성 지정\n",
        "capture.set(cv2.CAP_PROP_FOCUS, 0)\n",
        "capture.set(cv2.CAP_PROP_FRAME_WIDTH , size[0])     \t# 해상도 설정\n",
        "capture.set(cv2.CAP_PROP_FRAME_HEIGHT, size[1])\n",
        "# 동영상 파일 개방 및 코덱, 해상도 설정\n",
        "writer = cv2.VideoWriter(\"images/video_file.avi\", fourcc, fps, size)\n",
        "if writer.isOpened() == False: raise Exception(\"동영상 파일 개방 안됨\")\n",
        "while True:\n",
        "    ret, frame = capture.read()             # 카메라 영상 받기\n",
        "    if not ret: break\n",
        "    if cv2.waitKey(delay) >= 0: break\n",
        "    writer.write(frame)                 # 프레임을 동영상으로 저장\n",
        "    cv2.imshow(\"View Frame from Camera\", frame)\n",
        "writer.release()\n",
        "capture.release()"
      ],
      "metadata": {
        "id": "CPUhlZB0VC0F"
      },
      "execution_count": null,
      "outputs": []
    },
    {
      "cell_type": "code",
      "source": [
        "import cv2\n",
        "from Common.utils import put_string\n",
        "def zoom_bar(value):\n",
        "    global capture\n",
        "    capture.set(cv2.CAP_PROP_ZOOM, value) # 줌 설정\n",
        "def focus_bar(value):\n",
        "    global capture\n",
        "    capture.set(cv2.CAP_PROP_FOCUS, value)\n",
        "capture = cv2.VideoCapture(0)\t\t\t\t\t\t\t\t# 0번 카메라 연결\n",
        "if capture.isOpened() is None: raise Exception(\"카메라 연결 안됨\")\n",
        "capture.set(cv2.CAP_PROP_FRAME_WIDTH, 400)      # 카메라 프레임 너비\n",
        "capture.set(cv2.CAP_PROP_FRAME_HEIGHT, 300)     # 카메라 프레임 높이\n",
        "capture.set(cv2.CAP_PROP_AUTOFOCUS, 0)          # 오토포커싱 중지\n",
        "capture.set(cv2.CAP_PROP_BRIGHTNESS, 100)       # 프레임 밝기 초기화\n",
        "title = \"Change Camera Properties\"              # 윈도우 이름 지정\n",
        "cv2.namedWindow(title)                          # 윈도우 생성 - 반드시 생성 해야함\n",
        "cv2.createTrackbar(\"zoom\" , title, 0, 10, zoom_bar)\n",
        "cv2.createTrackbar(\"focus\", title, 0, 40, focus_bar)\n",
        "while True:\n",
        "    ret, frame = capture.read()                 # 카메라 영상 받기\n",
        "    if not ret: break\n",
        "    if cv2.waitKey(30) >= 0: break\n",
        "    zoom = int(capture.get(cv2.CAP_PROP_ZOOM))\n",
        "    focus = int(capture.get(cv2.CAP_PROP_FOCUS))\n",
        "    put_string(frame, \"zoom : \" , (10, 240), zoom)   # 줌 값 표시\n",
        "    put_string(frame, \"focus : \", (10, 270), focus)    # 초점 값 표시\n",
        "    cv2.imshow(title, frame)\n",
        "capture.release()"
      ],
      "metadata": {
        "id": "_44AqhrnVrzq"
      },
      "execution_count": null,
      "outputs": []
    }
  ]
}